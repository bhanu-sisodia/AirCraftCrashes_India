import numpy as np
import matplotlib.pyplot as plt

# Accident probability per flight
p = 0.0000002  # ~1 in 5 million

# Lifetime in years
years = 60
weeks_per_year = 52

# Weekly flight frequencies to test
weekly_flights = np.array([0.5, 1, 2, 3, 5, 10, 20, 30])

# Compute total flights in lifetime
total_flights = weekly_flights * weeks_per_year * years

# Use exponential approximation
prob_at_least_one_accident = 1 - np.exp(-p * total_flights)

# Print results
for wf, n, prob in zip(weekly_flights, total_flights, prob_at_least_one_accident):
    print(f"{wf:.1f} flights/week => {int(n)} lifetime flights => ~{prob*100:.2f}% chance")

# Plot
plt.figure(figsize=(8, 5))
plt.plot(weekly_flights, prob_at_least_one_accident * 100, marker='o')
plt.title("Lifetime Risk of Fatal Air Accident vs Flights per Week")
plt.xlabel("Average Flights per Week")
plt.ylabel("Probability of at least one fatal crash (%)")
plt.grid(True)
plt.show()
